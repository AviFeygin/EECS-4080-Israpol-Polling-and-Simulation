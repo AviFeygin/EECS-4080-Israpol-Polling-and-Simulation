{
  "nbformat": 4,
  "nbformat_minor": 0,
  "metadata": {
    "colab": {
      "name": "Israpol.ipynb",
      "provenance": [],
      "collapsed_sections": [],
      "include_colab_link": true
    },
    "kernelspec": {
      "name": "python3",
      "display_name": "Python 3"
    },
    "language_info": {
      "name": "python"
    }
  },
  "cells": [
    {
      "cell_type": "markdown",
      "metadata": {
        "id": "view-in-github",
        "colab_type": "text"
      },
      "source": [
        "<a href=\"https://colab.research.google.com/github/AviFeygin/EECS-4080/blob/main/Israpol.ipynb\" target=\"_parent\"><img src=\"https://colab.research.google.com/assets/colab-badge.svg\" alt=\"Open In Colab\"/></a>"
      ]
    },
    {
      "cell_type": "code",
      "source": [
        "import numpy\n",
        "import torch\n",
        "import scipy\n",
        "import pandas as pd\n",
        "import matplotlib.pyplot as plt\n",
        "import keras as ker\n",
        "import seaborn as sea\n",
        "import xlrd as xlr\n",
        "import numpy as np\n",
        "import matplotlib.pyplot as plt\n",
        "import pymc3 as pm\n",
        "import theano\n",
        "import statsmodels.api as stm\n",
        "\n",
        "from sklearn import datasets, linear_model\n",
        "from sklearn.metrics import mean_squared_error, r2_score\n",
        "\n",
        "#ignore all warnings\n",
        "import warnings\n",
        "warnings.filterwarnings('ignore')\n",
        "sea.set()\n",
        "\n",
        "import itertools\n",
        "!pip install --upgrade xlrd\n",
        "\n",
        "from google.colab import data_table\n",
        "data_table.enable_dataframe_formatter()\n",
        "data_table.max_columns = 30\n",
        "from vega_datasets import data\n",
        "\n",
        "verbose = 0"
      ],
      "metadata": {
        "colab": {
          "base_uri": "https://localhost:8080/"
        },
        "id": "iy8hG02VdL7V",
        "outputId": "fb1b5416-636c-4af8-f382-988dc1158e05"
      },
      "execution_count": 24,
      "outputs": [
        {
          "output_type": "stream",
          "name": "stdout",
          "text": [
            "Looking in indexes: https://pypi.org/simple, https://us-python.pkg.dev/colab-wheels/public/simple/\n",
            "Requirement already satisfied: xlrd in /usr/local/lib/python3.7/dist-packages (2.0.1)\n"
          ]
        }
      ]
    },
    {
      "cell_type": "markdown",
      "source": [
        "Downloading Text"
      ],
      "metadata": {
        "id": "2EcRnP1ad_ks"
      }
    },
    {
      "cell_type": "code",
      "source": [
        "from google.colab import drive\n",
        "drive.mount('/content/drive')"
      ],
      "metadata": {
        "colab": {
          "base_uri": "https://localhost:8080/"
        },
        "id": "yvldX8HJP4Wt",
        "outputId": "71d3ea82-b016-436f-dc64-bd5fdcf6012f"
      },
      "execution_count": 25,
      "outputs": [
        {
          "output_type": "stream",
          "name": "stdout",
          "text": [
            "Drive already mounted at /content/drive; to attempt to forcibly remount, call drive.mount(\"/content/drive\", force_remount=True).\n"
          ]
        }
      ]
    },
    {
      "cell_type": "code",
      "source": [
        "data = '/content/drive/MyDrive/Polls.xls'\n",
        "polls = pd.read_excel(data)\n",
        "polls_2021 = pd.read_excel(data, sheet_name=0, index_col=0)"
      ],
      "metadata": {
        "id": "UmRgAXW7d6IA"
      },
      "execution_count": 26,
      "outputs": []
    },
    {
      "cell_type": "code",
      "source": [
        "print(\"polls_2021 shape:\")\n",
        "print(polls_2021.shape)\n",
        "just_polls = polls_2021.iloc[1:161, 4:25]\n",
        "print(\"just polls\")\n",
        "\n",
        "#fixing the float errors\n",
        "just_polls['Days Before election'] = just_polls['Days Before election'].round().astype('int')\n",
        "\n",
        "number_of_parties = 14\n",
        "number_of_blocs = 4"
      ],
      "metadata": {
        "colab": {
          "base_uri": "https://localhost:8080/"
        },
        "id": "lEgHsuVatk82",
        "outputId": "75cbea51-00f8-4d68-9327-6e0e74906cbc"
      },
      "execution_count": 27,
      "outputs": [
        {
          "output_type": "stream",
          "name": "stdout",
          "text": [
            "polls_2021 shape:\n",
            "(159, 23)\n",
            "just polls\n"
          ]
        }
      ]
    },
    {
      "cell_type": "code",
      "source": [
        "display(just_polls)"
      ],
      "metadata": {
        "colab": {
          "base_uri": "https://localhost:8080/",
          "height": 707
        },
        "id": "xzrWkJYvBjpW",
        "outputId": "92fabf25-d86a-4224-ace5-f78da8a3edc2"
      },
      "execution_count": 31,
      "outputs": [
        {
          "output_type": "stream",
          "name": "stdout",
          "text": [
            "Warning: Total number of columns (22) exceeds max_columns (20). Falling back to pandas display.\n"
          ]
        },
        {
          "output_type": "display_data",
          "data": {
            "text/plain": [
              "                     Days Before election  Likud  Yesh Atid  Blue & White  \\\n",
              "Date                                                                        \n",
              "2021-03-20 00:00:02                     3     31         19           4.0   \n",
              "2021-03-19 00:00:03                     4     30         18           4.0   \n",
              "2021-03-19 00:00:04                     4     32         18           4.0   \n",
              "2021-03-19 00:00:05                     4     31         19           4.0   \n",
              "2021-03-18 00:00:06                     5     30         19           5.0   \n",
              "...                                   ...    ...        ...           ...   \n",
              "2020-06-17 00:02:35                   279     41         15          11.0   \n",
              "2020-06-17 00:02:36                   279     41         15          10.0   \n",
              "2020-06-11 00:02:37                   285     41         16          13.0   \n",
              "2020-06-08 00:02:38                   288     40         14          12.0   \n",
              "2020-05-26 00:02:39                   301     41         14          12.0   \n",
              "\n",
              "                     Joint List  Shas  UTJ  Yisrael Beiteinu  Meretz  Raam  \\\n",
              "Date                                                                         \n",
              "2021-03-20 00:00:02           8     8    7                 7     4.0   4.0   \n",
              "2021-03-19 00:00:03           8     8    7                 6     4.0   4.0   \n",
              "2021-03-19 00:00:04           8     8    7                 7     4.0   4.0   \n",
              "2021-03-19 00:00:05           8     8    7                 7     4.0   4.0   \n",
              "2021-03-18 00:00:06           8     8    6                 8     4.0   4.0   \n",
              "...                         ...   ...  ...               ...     ...   ...   \n",
              "2020-06-17 00:02:35          16    10    7                 8     5.0   0.0   \n",
              "2020-06-17 00:02:36          16     9    7                 8     6.0   0.0   \n",
              "2020-06-11 00:02:37          15     9    8                 7     5.0   0.0   \n",
              "2020-06-08 00:02:38          15     9    7                 9     6.0   0.0   \n",
              "2020-05-26 00:02:39          15     9    8                 6     6.0   0.0   \n",
              "\n",
              "                     ...  Labor  Religious Zionist   NEP  Right Wing  \\\n",
              "Date                 ...                                               \n",
              "2021-03-20 00:00:02  ...   5.00               5.00  1.68       61.00   \n",
              "2021-03-19 00:00:03  ...   6.00               5.00  0.00       61.00   \n",
              "2021-03-19 00:00:04  ...   6.00               4.00  1.56       61.00   \n",
              "2021-03-19 00:00:05  ...   5.00               5.00  1.68       61.00   \n",
              "2021-03-18 00:00:06  ...   5.00               5.00  0.00       61.00   \n",
              "...                  ...    ...                ...   ...         ...   \n",
              "2020-06-17 00:02:35  ...   1.32               0.60  0.00       56.60   \n",
              "2020-06-17 00:02:36  ...   2.76               1.68  0.00       58.68   \n",
              "2020-06-11 00:02:37  ...   0.00               0.00  0.00       54.00   \n",
              "2020-06-08 00:02:38  ...   2.28               0.48  0.00       57.48   \n",
              "2020-05-26 00:02:39  ...   1.80               1.56  0.00       57.56   \n",
              "\n",
              "                     Left Wing  religious  Arab  anti bibi  pro bibi  \\\n",
              "Date                                                                   \n",
              "2021-03-20 00:00:02      28.00         15  16.0      69.00       NaN   \n",
              "2021-03-19 00:00:03      28.00         15  16.0      70.00       NaN   \n",
              "2021-03-19 00:00:04      28.00         15  16.0      69.00       NaN   \n",
              "2021-03-19 00:00:05      28.00         15  16.0      69.00       NaN   \n",
              "2021-03-18 00:00:06      29.00         14  16.0      71.00       NaN   \n",
              "...                        ...        ...   ...        ...       ...   \n",
              "2020-06-17 00:02:35      27.32         17  21.0      63.32       NaN   \n",
              "2020-06-17 00:02:36      27.76         16  22.0      65.76       NaN   \n",
              "2020-06-11 00:02:37      29.00         17  20.0      62.00       NaN   \n",
              "2020-06-08 00:02:38      28.28         16  21.0      66.28       NaN   \n",
              "2020-05-26 00:02:39      27.80         17  21.0      63.80       NaN   \n",
              "\n",
              "                     current_gov  \n",
              "Date                              \n",
              "2021-03-20 00:00:02        61.00  \n",
              "2021-03-19 00:00:03        62.00  \n",
              "2021-03-19 00:00:04        61.00  \n",
              "2021-03-19 00:00:05        61.00  \n",
              "2021-03-18 00:00:06        63.00  \n",
              "...                          ...  \n",
              "2020-06-17 00:02:35        47.32  \n",
              "2020-06-17 00:02:36        49.76  \n",
              "2020-06-11 00:02:37        47.00  \n",
              "2020-06-08 00:02:38        51.28  \n",
              "2020-05-26 00:02:39        48.80  \n",
              "\n",
              "[158 rows x 22 columns]"
            ],
            "text/html": [
              "\n",
              "  <div id=\"df-446585d8-2981-48c6-8bc9-7774a2f69643\">\n",
              "    <div class=\"colab-df-container\">\n",
              "      <div>\n",
              "<style scoped>\n",
              "    .dataframe tbody tr th:only-of-type {\n",
              "        vertical-align: middle;\n",
              "    }\n",
              "\n",
              "    .dataframe tbody tr th {\n",
              "        vertical-align: top;\n",
              "    }\n",
              "\n",
              "    .dataframe thead th {\n",
              "        text-align: right;\n",
              "    }\n",
              "</style>\n",
              "<table border=\"1\" class=\"dataframe\">\n",
              "  <thead>\n",
              "    <tr style=\"text-align: right;\">\n",
              "      <th></th>\n",
              "      <th>Days Before election</th>\n",
              "      <th>Likud</th>\n",
              "      <th>Yesh Atid</th>\n",
              "      <th>Blue &amp; White</th>\n",
              "      <th>Joint List</th>\n",
              "      <th>Shas</th>\n",
              "      <th>UTJ</th>\n",
              "      <th>Yisrael Beiteinu</th>\n",
              "      <th>Meretz</th>\n",
              "      <th>Raam</th>\n",
              "      <th>...</th>\n",
              "      <th>Labor</th>\n",
              "      <th>Religious Zionist</th>\n",
              "      <th>NEP</th>\n",
              "      <th>Right Wing</th>\n",
              "      <th>Left Wing</th>\n",
              "      <th>religious</th>\n",
              "      <th>Arab</th>\n",
              "      <th>anti bibi</th>\n",
              "      <th>pro bibi</th>\n",
              "      <th>current_gov</th>\n",
              "    </tr>\n",
              "    <tr>\n",
              "      <th>Date</th>\n",
              "      <th></th>\n",
              "      <th></th>\n",
              "      <th></th>\n",
              "      <th></th>\n",
              "      <th></th>\n",
              "      <th></th>\n",
              "      <th></th>\n",
              "      <th></th>\n",
              "      <th></th>\n",
              "      <th></th>\n",
              "      <th></th>\n",
              "      <th></th>\n",
              "      <th></th>\n",
              "      <th></th>\n",
              "      <th></th>\n",
              "      <th></th>\n",
              "      <th></th>\n",
              "      <th></th>\n",
              "      <th></th>\n",
              "      <th></th>\n",
              "      <th></th>\n",
              "    </tr>\n",
              "  </thead>\n",
              "  <tbody>\n",
              "    <tr>\n",
              "      <th>2021-03-20 00:00:02</th>\n",
              "      <td>3</td>\n",
              "      <td>31</td>\n",
              "      <td>19</td>\n",
              "      <td>4.0</td>\n",
              "      <td>8</td>\n",
              "      <td>8</td>\n",
              "      <td>7</td>\n",
              "      <td>7</td>\n",
              "      <td>4.0</td>\n",
              "      <td>4.0</td>\n",
              "      <td>...</td>\n",
              "      <td>5.00</td>\n",
              "      <td>5.00</td>\n",
              "      <td>1.68</td>\n",
              "      <td>61.00</td>\n",
              "      <td>28.00</td>\n",
              "      <td>15</td>\n",
              "      <td>16.0</td>\n",
              "      <td>69.00</td>\n",
              "      <td>NaN</td>\n",
              "      <td>61.00</td>\n",
              "    </tr>\n",
              "    <tr>\n",
              "      <th>2021-03-19 00:00:03</th>\n",
              "      <td>4</td>\n",
              "      <td>30</td>\n",
              "      <td>18</td>\n",
              "      <td>4.0</td>\n",
              "      <td>8</td>\n",
              "      <td>8</td>\n",
              "      <td>7</td>\n",
              "      <td>6</td>\n",
              "      <td>4.0</td>\n",
              "      <td>4.0</td>\n",
              "      <td>...</td>\n",
              "      <td>6.00</td>\n",
              "      <td>5.00</td>\n",
              "      <td>0.00</td>\n",
              "      <td>61.00</td>\n",
              "      <td>28.00</td>\n",
              "      <td>15</td>\n",
              "      <td>16.0</td>\n",
              "      <td>70.00</td>\n",
              "      <td>NaN</td>\n",
              "      <td>62.00</td>\n",
              "    </tr>\n",
              "    <tr>\n",
              "      <th>2021-03-19 00:00:04</th>\n",
              "      <td>4</td>\n",
              "      <td>32</td>\n",
              "      <td>18</td>\n",
              "      <td>4.0</td>\n",
              "      <td>8</td>\n",
              "      <td>8</td>\n",
              "      <td>7</td>\n",
              "      <td>7</td>\n",
              "      <td>4.0</td>\n",
              "      <td>4.0</td>\n",
              "      <td>...</td>\n",
              "      <td>6.00</td>\n",
              "      <td>4.00</td>\n",
              "      <td>1.56</td>\n",
              "      <td>61.00</td>\n",
              "      <td>28.00</td>\n",
              "      <td>15</td>\n",
              "      <td>16.0</td>\n",
              "      <td>69.00</td>\n",
              "      <td>NaN</td>\n",
              "      <td>61.00</td>\n",
              "    </tr>\n",
              "    <tr>\n",
              "      <th>2021-03-19 00:00:05</th>\n",
              "      <td>4</td>\n",
              "      <td>31</td>\n",
              "      <td>19</td>\n",
              "      <td>4.0</td>\n",
              "      <td>8</td>\n",
              "      <td>8</td>\n",
              "      <td>7</td>\n",
              "      <td>7</td>\n",
              "      <td>4.0</td>\n",
              "      <td>4.0</td>\n",
              "      <td>...</td>\n",
              "      <td>5.00</td>\n",
              "      <td>5.00</td>\n",
              "      <td>1.68</td>\n",
              "      <td>61.00</td>\n",
              "      <td>28.00</td>\n",
              "      <td>15</td>\n",
              "      <td>16.0</td>\n",
              "      <td>69.00</td>\n",
              "      <td>NaN</td>\n",
              "      <td>61.00</td>\n",
              "    </tr>\n",
              "    <tr>\n",
              "      <th>2021-03-18 00:00:06</th>\n",
              "      <td>5</td>\n",
              "      <td>30</td>\n",
              "      <td>19</td>\n",
              "      <td>5.0</td>\n",
              "      <td>8</td>\n",
              "      <td>8</td>\n",
              "      <td>6</td>\n",
              "      <td>8</td>\n",
              "      <td>4.0</td>\n",
              "      <td>4.0</td>\n",
              "      <td>...</td>\n",
              "      <td>5.00</td>\n",
              "      <td>5.00</td>\n",
              "      <td>0.00</td>\n",
              "      <td>61.00</td>\n",
              "      <td>29.00</td>\n",
              "      <td>14</td>\n",
              "      <td>16.0</td>\n",
              "      <td>71.00</td>\n",
              "      <td>NaN</td>\n",
              "      <td>63.00</td>\n",
              "    </tr>\n",
              "    <tr>\n",
              "      <th>...</th>\n",
              "      <td>...</td>\n",
              "      <td>...</td>\n",
              "      <td>...</td>\n",
              "      <td>...</td>\n",
              "      <td>...</td>\n",
              "      <td>...</td>\n",
              "      <td>...</td>\n",
              "      <td>...</td>\n",
              "      <td>...</td>\n",
              "      <td>...</td>\n",
              "      <td>...</td>\n",
              "      <td>...</td>\n",
              "      <td>...</td>\n",
              "      <td>...</td>\n",
              "      <td>...</td>\n",
              "      <td>...</td>\n",
              "      <td>...</td>\n",
              "      <td>...</td>\n",
              "      <td>...</td>\n",
              "      <td>...</td>\n",
              "      <td>...</td>\n",
              "    </tr>\n",
              "    <tr>\n",
              "      <th>2020-06-17 00:02:35</th>\n",
              "      <td>279</td>\n",
              "      <td>41</td>\n",
              "      <td>15</td>\n",
              "      <td>11.0</td>\n",
              "      <td>16</td>\n",
              "      <td>10</td>\n",
              "      <td>7</td>\n",
              "      <td>8</td>\n",
              "      <td>5.0</td>\n",
              "      <td>0.0</td>\n",
              "      <td>...</td>\n",
              "      <td>1.32</td>\n",
              "      <td>0.60</td>\n",
              "      <td>0.00</td>\n",
              "      <td>56.60</td>\n",
              "      <td>27.32</td>\n",
              "      <td>17</td>\n",
              "      <td>21.0</td>\n",
              "      <td>63.32</td>\n",
              "      <td>NaN</td>\n",
              "      <td>47.32</td>\n",
              "    </tr>\n",
              "    <tr>\n",
              "      <th>2020-06-17 00:02:36</th>\n",
              "      <td>279</td>\n",
              "      <td>41</td>\n",
              "      <td>15</td>\n",
              "      <td>10.0</td>\n",
              "      <td>16</td>\n",
              "      <td>9</td>\n",
              "      <td>7</td>\n",
              "      <td>8</td>\n",
              "      <td>6.0</td>\n",
              "      <td>0.0</td>\n",
              "      <td>...</td>\n",
              "      <td>2.76</td>\n",
              "      <td>1.68</td>\n",
              "      <td>0.00</td>\n",
              "      <td>58.68</td>\n",
              "      <td>27.76</td>\n",
              "      <td>16</td>\n",
              "      <td>22.0</td>\n",
              "      <td>65.76</td>\n",
              "      <td>NaN</td>\n",
              "      <td>49.76</td>\n",
              "    </tr>\n",
              "    <tr>\n",
              "      <th>2020-06-11 00:02:37</th>\n",
              "      <td>285</td>\n",
              "      <td>41</td>\n",
              "      <td>16</td>\n",
              "      <td>13.0</td>\n",
              "      <td>15</td>\n",
              "      <td>9</td>\n",
              "      <td>8</td>\n",
              "      <td>7</td>\n",
              "      <td>5.0</td>\n",
              "      <td>0.0</td>\n",
              "      <td>...</td>\n",
              "      <td>0.00</td>\n",
              "      <td>0.00</td>\n",
              "      <td>0.00</td>\n",
              "      <td>54.00</td>\n",
              "      <td>29.00</td>\n",
              "      <td>17</td>\n",
              "      <td>20.0</td>\n",
              "      <td>62.00</td>\n",
              "      <td>NaN</td>\n",
              "      <td>47.00</td>\n",
              "    </tr>\n",
              "    <tr>\n",
              "      <th>2020-06-08 00:02:38</th>\n",
              "      <td>288</td>\n",
              "      <td>40</td>\n",
              "      <td>14</td>\n",
              "      <td>12.0</td>\n",
              "      <td>15</td>\n",
              "      <td>9</td>\n",
              "      <td>7</td>\n",
              "      <td>9</td>\n",
              "      <td>6.0</td>\n",
              "      <td>0.0</td>\n",
              "      <td>...</td>\n",
              "      <td>2.28</td>\n",
              "      <td>0.48</td>\n",
              "      <td>0.00</td>\n",
              "      <td>57.48</td>\n",
              "      <td>28.28</td>\n",
              "      <td>16</td>\n",
              "      <td>21.0</td>\n",
              "      <td>66.28</td>\n",
              "      <td>NaN</td>\n",
              "      <td>51.28</td>\n",
              "    </tr>\n",
              "    <tr>\n",
              "      <th>2020-05-26 00:02:39</th>\n",
              "      <td>301</td>\n",
              "      <td>41</td>\n",
              "      <td>14</td>\n",
              "      <td>12.0</td>\n",
              "      <td>15</td>\n",
              "      <td>9</td>\n",
              "      <td>8</td>\n",
              "      <td>6</td>\n",
              "      <td>6.0</td>\n",
              "      <td>0.0</td>\n",
              "      <td>...</td>\n",
              "      <td>1.80</td>\n",
              "      <td>1.56</td>\n",
              "      <td>0.00</td>\n",
              "      <td>57.56</td>\n",
              "      <td>27.80</td>\n",
              "      <td>17</td>\n",
              "      <td>21.0</td>\n",
              "      <td>63.80</td>\n",
              "      <td>NaN</td>\n",
              "      <td>48.80</td>\n",
              "    </tr>\n",
              "  </tbody>\n",
              "</table>\n",
              "<p>158 rows × 22 columns</p>\n",
              "</div>\n",
              "      <button class=\"colab-df-convert\" onclick=\"convertToInteractive('df-446585d8-2981-48c6-8bc9-7774a2f69643')\"\n",
              "              title=\"Convert this dataframe to an interactive table.\"\n",
              "              style=\"display:none;\">\n",
              "        \n",
              "  <svg xmlns=\"http://www.w3.org/2000/svg\" height=\"24px\"viewBox=\"0 0 24 24\"\n",
              "       width=\"24px\">\n",
              "    <path d=\"M0 0h24v24H0V0z\" fill=\"none\"/>\n",
              "    <path d=\"M18.56 5.44l.94 2.06.94-2.06 2.06-.94-2.06-.94-.94-2.06-.94 2.06-2.06.94zm-11 1L8.5 8.5l.94-2.06 2.06-.94-2.06-.94L8.5 2.5l-.94 2.06-2.06.94zm10 10l.94 2.06.94-2.06 2.06-.94-2.06-.94-.94-2.06-.94 2.06-2.06.94z\"/><path d=\"M17.41 7.96l-1.37-1.37c-.4-.4-.92-.59-1.43-.59-.52 0-1.04.2-1.43.59L10.3 9.45l-7.72 7.72c-.78.78-.78 2.05 0 2.83L4 21.41c.39.39.9.59 1.41.59.51 0 1.02-.2 1.41-.59l7.78-7.78 2.81-2.81c.8-.78.8-2.07 0-2.86zM5.41 20L4 18.59l7.72-7.72 1.47 1.35L5.41 20z\"/>\n",
              "  </svg>\n",
              "      </button>\n",
              "      \n",
              "  <style>\n",
              "    .colab-df-container {\n",
              "      display:flex;\n",
              "      flex-wrap:wrap;\n",
              "      gap: 12px;\n",
              "    }\n",
              "\n",
              "    .colab-df-convert {\n",
              "      background-color: #E8F0FE;\n",
              "      border: none;\n",
              "      border-radius: 50%;\n",
              "      cursor: pointer;\n",
              "      display: none;\n",
              "      fill: #1967D2;\n",
              "      height: 32px;\n",
              "      padding: 0 0 0 0;\n",
              "      width: 32px;\n",
              "    }\n",
              "\n",
              "    .colab-df-convert:hover {\n",
              "      background-color: #E2EBFA;\n",
              "      box-shadow: 0px 1px 2px rgba(60, 64, 67, 0.3), 0px 1px 3px 1px rgba(60, 64, 67, 0.15);\n",
              "      fill: #174EA6;\n",
              "    }\n",
              "\n",
              "    [theme=dark] .colab-df-convert {\n",
              "      background-color: #3B4455;\n",
              "      fill: #D2E3FC;\n",
              "    }\n",
              "\n",
              "    [theme=dark] .colab-df-convert:hover {\n",
              "      background-color: #434B5C;\n",
              "      box-shadow: 0px 1px 3px 1px rgba(0, 0, 0, 0.15);\n",
              "      filter: drop-shadow(0px 1px 2px rgba(0, 0, 0, 0.3));\n",
              "      fill: #FFFFFF;\n",
              "    }\n",
              "  </style>\n",
              "\n",
              "      <script>\n",
              "        const buttonEl =\n",
              "          document.querySelector('#df-446585d8-2981-48c6-8bc9-7774a2f69643 button.colab-df-convert');\n",
              "        buttonEl.style.display =\n",
              "          google.colab.kernel.accessAllowed ? 'block' : 'none';\n",
              "\n",
              "        async function convertToInteractive(key) {\n",
              "          const element = document.querySelector('#df-446585d8-2981-48c6-8bc9-7774a2f69643');\n",
              "          const dataTable =\n",
              "            await google.colab.kernel.invokeFunction('convertToInteractive',\n",
              "                                                     [key], {});\n",
              "          if (!dataTable) return;\n",
              "\n",
              "          const docLinkHtml = 'Like what you see? Visit the ' +\n",
              "            '<a target=\"_blank\" href=https://colab.research.google.com/notebooks/data_table.ipynb>data table notebook</a>'\n",
              "            + ' to learn more about interactive tables.';\n",
              "          element.innerHTML = '';\n",
              "          dataTable['output_type'] = 'display_data';\n",
              "          await google.colab.output.renderOutput(dataTable, element);\n",
              "          const docLink = document.createElement('div');\n",
              "          docLink.innerHTML = docLinkHtml;\n",
              "          element.appendChild(docLink);\n",
              "        }\n",
              "      </script>\n",
              "    </div>\n",
              "  </div>\n",
              "  "
            ]
          },
          "metadata": {}
        }
      ]
    },
    {
      "cell_type": "markdown",
      "source": [
        "Parties"
      ],
      "metadata": {
        "id": "VqA7Tnh2g1g1"
      }
    },
    {
      "cell_type": "markdown",
      "source": [
        "Additional Blocs"
      ],
      "metadata": {
        "id": "-QFlH8gKBOQW"
      }
    },
    {
      "cell_type": "code",
      "source": [
        "just_polls['anti bibi'] = just_polls['Yesh Atid']+just_polls['Blue & White']+just_polls['Joint List']+just_polls['Yisrael Beiteinu']+ just_polls['Meretz']+just_polls['Raam']+just_polls['Yamina']+ just_polls['New Hope']+just_polls['Labor']\n",
        "just_polls['pro bibi'] = just_polls[['Likud','Shas', 'UTJ', 'Religious Zionist']].sum(axis=0)\n",
        "just_polls['current gov'] = just_polls['Yesh Atid']+just_polls['Blue & White']+just_polls['Yisrael Beiteinu']+ just_polls['Meretz']+just_polls['Raam']+just_polls['Yamina']+ just_polls['New Hope']+just_polls['Labor']"
      ],
      "metadata": {
        "id": "CwBnRyidBNNk"
      },
      "execution_count": 33,
      "outputs": []
    },
    {
      "cell_type": "code",
      "source": [
        "likud = just_polls[['Days Before election','Likud']]\n",
        "#display(likud)\n",
        "yesh_atid = just_polls[['Days Before election','Yesh Atid']]\n",
        "blue_and_white = just_polls[['Days Before election','Blue & White']]\n",
        "joint_list = just_polls[['Days Before election','Joint List']]\n",
        "shas = just_polls[['Days Before election','Shas']]\n",
        "utj = just_polls[['Days Before election','UTJ']]\n",
        "beiteinu = just_polls[['Days Before election','Yisrael Beiteinu']]\n",
        "meretz = just_polls[['Days Before election','Meretz']]\n",
        "raam = just_polls[['Days Before election','Raam']]\n",
        "yamina = just_polls[['Days Before election','Yamina']]\n",
        "new_hope = just_polls[['Days Before election','New Hope']]\n",
        "Labor = just_polls[['Days Before election','Labor']]\n",
        "religious_zionist = just_polls[['Days Before election','Religious Zionist']]\n",
        "\n"
      ],
      "metadata": {
        "id": "oww47AcjfcCc"
      },
      "execution_count": 34,
      "outputs": []
    },
    {
      "cell_type": "markdown",
      "source": [
        "Blocs\n"
      ],
      "metadata": {
        "id": "Ul8fe08mg3Aa"
      }
    },
    {
      "cell_type": "code",
      "source": [
        "right_wing  = just_polls[['Days Before election','Right Wing']]\n",
        "left_wing   = just_polls[['Days Before election','Left Wing']]\n",
        "religious   = just_polls[['Days Before election','religious']]\n",
        "arab        = just_polls[['Days Before election','Arab']]\n",
        "anti_bibi   = just_polls[['Days Before election','anti bibi']]\n",
        "pro_bibi    = just_polls[['Days Before election','pro bibi']]\n",
        "current_gov = just_polls[['Days Before election','current gov']] "
      ],
      "metadata": {
        "id": "-yCjJGV6g4Ir"
      },
      "execution_count": 36,
      "outputs": []
    },
    {
      "cell_type": "markdown",
      "source": [
        "Defining a LOESS function\n",
        "it will take in a panda frame column and return the loess column"
      ],
      "metadata": {
        "id": "kdQA1G-lfb0j"
      }
    },
    {
      "cell_type": "code",
      "source": [
        "#Frame must be a column dataframe with time indexing, delta is an integer that should be the time interval and days which is unique days of the set\n",
        "#returns new frame with loess and same time indexing\n",
        "# freame.loc[frame['set_of_numbers'] <= 4, 'equal_or_lower_than_4?'] = 'True' \n",
        "# frame.loc[frame['set_of_numbers'] > 4, 'equal_or_lower_than_4?'] = 'False' \n",
        "verbose =0\n",
        "just_polls['Days Before election'].nunique()\n",
        "def LOESS(frame, delta = 2, days = 1, name = 'Likud'):\n",
        "  display(frame.shape)\n",
        "  delta = (delta-1)/2\n",
        "  length = len(frame.index)\n",
        "  Loess_frame = pd.DataFrame()\n",
        "  temp = pd.DataFrame()\n",
        "  #above_35 = titanic[titanic[\"Age\"] > 35]\n",
        "  for i in range(3, frame['Days Before election'].max()):\n",
        "   temp = frame[(frame['Days Before election'] <= (i+delta)) & (frame['Days Before election'] >= (i-delta)) ]\n",
        "   if len(temp.index)>0:\n",
        "    x = temp['Days Before election'].values.reshape(-1,1)\n",
        " \n",
        "    y = temp[name].values.reshape(len(temp.index),1)\n",
        "\n",
        "    if (verbose == 1):\n",
        "       print(\"i: \")\n",
        "       display(i)\n",
        "       print(\"y: \")\n",
        "       display(y)\n",
        "       print(\"x: \")\n",
        "       display(x)\n",
        "\n",
        "\n",
        "    model = linear_model.LinearRegression().fit(x, y)\n",
        "    linear_model.LinearRegression(copy_X=True, fit_intercept=True, n_jobs=1, normalize=False)\n",
        "    linear_model.LinearRegression(copy_X=True, fit_intercept=True, n_jobs=1, normalize=False)\n",
        "    if verbose ==1:\n",
        "     display(model.predict([[i]]))\n",
        "    Loess_frame.append([i, model.predict([[i]])])\n",
        "    if verbose ==1:\n",
        "     display(Loess_frame)\n",
        "  return Loess_frame\n",
        "\n",
        "\n",
        "\n"
      ],
      "metadata": {
        "id": "zK0W0vsQsa6z"
      },
      "execution_count": null,
      "outputs": []
    },
    {
      "cell_type": "code",
      "source": [
        "verbose = 0\n",
        "delta = 3\n",
        "likud_Loess             = LOESS(likud, delta, just_polls['Days Before election'].nunique(), 'Likud')\n",
        "yesh_atid_Loess         = LOESS(yesh_atid, delta, just_polls['Days Before election'].nunique(), 'Yesh Atid')\n",
        "blue_and_white_Loess    = LOESS(blue_and_white,delta, just_polls['Days Before election'].nunique(), 'Blue & White')\n",
        "joint_list_Loess        = LOESS(joint_list, delta ,just_polls['Days Before election'].nunique(), 'Joint List')\n",
        "shas_Loess              = LOESS(shas, delta, just_polls['Days Before election'].nunique(), 'Shas')\n",
        "utj_Loess               = LOESS(utj, delta, just_polls['Days Before election'].nunique(), 'UTJ')\n",
        "beiteinu_Loess          = LOESS(beiteinu, delta, just_polls['Days Before election'].nunique(), 'Yisrael Beiteinu')\n",
        "meretz_Loess            = LOESS(meretz, delta, just_polls['Days Before election'].nunique(), 'Meretz')\n",
        "raam_Loess              = LOESS(raam, delta, just_polls['Days Before election'].nunique(), 'Raam')\n",
        "yamina_Loess            = LOESS(yamina, delta, just_polls['Days Before election'].nunique(), 'Yamina')\n",
        "new_hope_Loess          = LOESS(new_hope, delta, just_polls['Days Before election'].nunique(), 'New Hope')\n",
        "Labor_Loess             = LOESS(Labor, delta, just_polls['Days Before election'].nunique(), 'Labor')\n",
        "religious_zionist_Loess = LOESS(religious_zionist, delta, just_polls['Days Before election'].nunique(), 'Religious Zionist')"
      ],
      "metadata": {
        "id": "hUz-TphjwBNf"
      },
      "execution_count": null,
      "outputs": []
    },
    {
      "cell_type": "code",
      "source": [
        "right_wing_Loess  = LOESS(right_wing, delta, LOESS(religious, delta,just_polls['Days Before election'].nunique(),'Right Wing')\n",
        "left_wing_Loess   = LOESS(left_wing, delta, ['Days Before election'].nunique(),'Left Wing')\n",
        "religious_Loess   = LOESS(religious, delta, ['Days Before election'].nunique(),'religious')\n",
        "\n",
        "anti_bibi_Loess   = LOESS(anti_bibi, delta,just_polls['Days Before election'].nunique(),'anti bibi')\n",
        "pro_bibi_Loess    = LOESS(pro_bibi, delta,just_polls['Days Before election'].nunique(),'pro bibi')\n",
        "current_gov_Loess = LOESS(current_gov, delta,just_polls['Days Before election'].nunique(),'current gov')\n",
        "\n"
      ],
      "metadata": {
        "id": "nx8eZE2yzL2M",
        "colab": {
          "base_uri": "https://localhost:8080/",
          "height": 130
        },
        "outputId": "d7df4b8a-8215-452e-9e45-2b2c773a5685"
      },
      "execution_count": 37,
      "outputs": [
        {
          "output_type": "error",
          "ename": "SyntaxError",
          "evalue": "ignored",
          "traceback": [
            "\u001b[0;36m  File \u001b[0;32m\"<ipython-input-37-35994fcdab1b>\"\u001b[0;36m, line \u001b[0;32m2\u001b[0m\n\u001b[0;31m    left_wing_Loess   = LOESS(left_wing, delta, ['Days Before election'].nunique(),'Left Wing')\u001b[0m\n\u001b[0m                  ^\u001b[0m\n\u001b[0;31mSyntaxError\u001b[0m\u001b[0;31m:\u001b[0m invalid syntax\n"
          ]
        }
      ]
    },
    {
      "cell_type": "markdown",
      "source": [
        "Defining the LOWESS function"
      ],
      "metadata": {
        "id": "-EZcm4nKsi_5"
      }
    },
    {
      "cell_type": "code",
      "source": [
        "delta=3\n",
        "length = just_polls['Days Before election'].max()\n",
        "indeces = just_polls['Days Before election']\n",
        "delta = delta/2\n",
        "loess_data = zeroes\n",
        "  #frame is the pandas dataframe, range is the delta of spread. higher delta means more days. length is the total number of days before an election since this assumes some polls may overlap.\n",
        "\n",
        "for i in range(length):\n",
        "  temp_frame  = just_polls;\n",
        "  for column in just_polls[2:]:\n",
        "    temp_frame[column, just_polls['Days Before Election']>i - delta and just_polls['Days Before Election'] < i+delta ]\n",
        "\n"
      ],
      "metadata": {
        "id": "Mp7rGU1rEWMR"
      },
      "execution_count": null,
      "outputs": []
    },
    {
      "cell_type": "code",
      "source": [
        "#[:,-1] rows and columns\n",
        "\n",
        "just_polls_parties = just_polls.iloc[:, 0:13]\n",
        "just_polls_blocks = just_polls.iloc[:,14:18]\n",
        "just_polls_blocks.plot(figsize=(20, 30, ), style =\".\")\n",
        "\n",
        "#You pass the wanted axis to the ax argument\n",
        "df.plot(kind='scatter', x='x', y='y',title=\"Nice title\", grid=True,fontsize=10, ax=ax) \n",
        "ax.plot(line, x_line, zorder=-1)"
      ],
      "metadata": {
        "id": "sy_fDlCsKhVf"
      },
      "execution_count": null,
      "outputs": []
    },
    {
      "cell_type": "code",
      "source": [
        "#Loess and lowess\n",
        "\n",
        "for i in range(length(just_polls))\n",
        "  display(i)"
      ],
      "metadata": {
        "id": "FKnXjydMmPli"
      },
      "execution_count": null,
      "outputs": []
    },
    {
      "cell_type": "code",
      "source": [
        "covariance = just_polls.corr()\n",
        "print(\"covariance\")\n",
        "display(covariance)\n",
        "heat_map = sea.heatmap(df.corr(), covariance,annot=True, cmap = \"RdBu\")\n",
        "plt.figure(figsize = (30,15))\n",
        "sea.heatmap()"
      ],
      "metadata": {
        "id": "ukrS9BKUto0o"
      },
      "execution_count": null,
      "outputs": []
    },
    {
      "cell_type": "code",
      "source": [
        "correlation_3_day = pd.read_excel(data, sheet_name=1, index_col=0)\n",
        "display(correlation_3_day)"
      ],
      "metadata": {
        "id": "2ibktWn9uGD1"
      },
      "execution_count": null,
      "outputs": []
    },
    {
      "cell_type": "markdown",
      "source": [
        "3 day rolling average"
      ],
      "metadata": {
        "id": "AjDJxdym8yKu"
      }
    },
    {
      "cell_type": "code",
      "source": [
        "correlation_3_day = correlation_3_day.iloc[1:159, 25:35]\n",
        "display(correlation_3_day)\n"
      ],
      "metadata": {
        "id": "SqlvD4V_8096"
      },
      "execution_count": null,
      "outputs": []
    },
    {
      "cell_type": "code",
      "execution_count": null,
      "metadata": {
        "id": "2s73j_LbPj6F"
      },
      "outputs": [],
      "source": [
        "correlation_3_poll = pd.read_excel(data, sheet_name=2, index_col=0)\n",
        "correlation_3_poll = correlation_3_poll.iloc[444:454, 1:19]\n",
        "\n",
        "heat_map2 = sea.heatmap(correlation_3_day, annot=True, cmap = \"RdBu\");\n",
        "plt.show()\n",
        "heat_map3 = sea.heatmap(correlation_3_poll, annot=True, cmap = \"RdBu\");\n",
        "plt.show()\n",
        "# temp = just_polls[1:1, 1:1]\n",
        "# start, stop =1;\n",
        "stm.nonparametric.lowess()\n",
        "\n",
        "\n"
      ]
    }
  ]
}