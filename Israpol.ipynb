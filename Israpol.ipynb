{
  "nbformat": 4,
  "nbformat_minor": 0,
  "metadata": {
    "colab": {
      "name": "Israpol.ipynb",
      "provenance": [],
      "authorship_tag": "ABX9TyPhGwUAR9jhm6XNhA2CSQr+",
      "include_colab_link": true
    },
    "kernelspec": {
      "name": "python3",
      "display_name": "Python 3"
    },
    "language_info": {
      "name": "python"
    }
  },
  "cells": [
    {
      "cell_type": "markdown",
      "metadata": {
        "id": "view-in-github",
        "colab_type": "text"
      },
      "source": [
        "<a href=\"https://colab.research.google.com/github/AviFeygin/EECS-4080/blob/main/Israpol.ipynb\" target=\"_parent\"><img src=\"https://colab.research.google.com/assets/colab-badge.svg\" alt=\"Open In Colab\"/></a>"
      ]
    },
    {
      "cell_type": "code",
      "execution_count": null,
      "metadata": {
        "id": "2s73j_LbPj6F"
      },
      "outputs": [],
      "source": [
        "# This is a sample Python script.\n",
        "\n",
        "# Press Shift+F10 to execute it or replace it with your code.\n",
        "# Press Double Shift to search everywhere for classes, files, tool windows, actions, and settings.\n",
        "import numpy\n",
        "import torch\n",
        "import scipy\n",
        "import pandas as pd\n",
        "import matplotlib.pyplot as plt\n",
        "import keras as ker\n",
        "import seaborn as sea\n",
        "import xlrd\n",
        "import numpy as np\n",
        "import matplotlib.pyplot as plt\n",
        "import pymc3 as pm\n",
        "import theano\n",
        "import statsmodels.api as stm\n",
        "\n",
        "import itertools\n",
        "\n",
        "\n",
        "def print_hi(name):\n",
        "    # Use a breakpoint in the code line below to debug your script.\n",
        "    print(f'Hi, {name}')  # Press Ctrl+F8 to toggle the breakpoint.\n",
        "data = 'polls.xls'\n",
        "polls = pd.read_excel(data)\n",
        "polls_2021 = pd.read_excel(data, sheet_name=0, index_col=0)\n",
        "print(\"polls_2021 shape:\")\n",
        "print(polls_2021.shape)\n",
        "just_polls = polls_2021.iloc[7:161, 5:25]\n",
        "print(\"just polls\")\n",
        "\n",
        "print(just_polls)\n",
        "\n",
        "covariance = just_polls.corr()\n",
        "print(\"covariance\")\n",
        "print(covariance)\n",
        "\n",
        "heat_map = sea.heatmap(covariance,annot=True, cmap = \"RdBu\")\n",
        "plt.show()\n",
        "correlation_3_day = pd.read_excel(data, sheet_name=1, index_col=0)\n",
        "correlation_3_poll = pd.read_excel(data, sheet_name=2, index_col=0)\n",
        "correlation_3_poll = correlation_3_poll.iloc[444:454, 1:19]\n",
        "correlation_3_day = correlation_3_day.iloc[161:171, 1:19]\n",
        "heat_map2 = sea.heatmap(correlation_3_day, annot=True, cmap = \"RdBu\");\n",
        "plt.show()\n",
        "heat_map3 = sea.heatmap(correlation_3_poll, annot=True, cmap = \"RdBu\");\n",
        "plt.show()\n",
        "# temp = just_polls[1:1, 1:1]\n",
        "# start, stop =1;\n",
        "stm.nonparametric.lowess()\n",
        "\n",
        "\n"
      ]
    }
  ]
}